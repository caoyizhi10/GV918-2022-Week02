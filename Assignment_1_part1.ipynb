{
  "nbformat": 4,
  "nbformat_minor": 0,
  "metadata": {
    "colab": {
      "provenance": [],
      "collapsed_sections": [],
      "toc_visible": true
    },
    "kernelspec": {
      "name": "python3",
      "display_name": "Python 3"
    }
  },
  "cells": [
    {
      "cell_type": "markdown",
      "metadata": {
        "id": "xUKzQ_SNrr7Y"
      },
      "source": [
        "# Assignment instruction\n",
        "\n",
        "NAME: Akitaka Matsuo\n",
        "\n",
        "In this part of the assignment, you are asked to answer questions about basics of python and NumPy. Answer all questions. This assignment comprises 40 percent of the assignment grade.\n"
      ]
    },
    {
      "cell_type": "code",
      "metadata": {
        "id": "DYfc9MrpxClU"
      },
      "source": [
        "import numpy as np"
      ],
      "execution_count": null,
      "outputs": []
    },
    {
      "cell_type": "markdown",
      "source": [
        "# Python introduction (15 points)"
      ],
      "metadata": {
        "id": "2g4y5CiO0bQE"
      }
    },
    {
      "cell_type": "markdown",
      "metadata": {
        "id": "TqooWbBvJbM8"
      },
      "source": [
        "Split the following string by word and create a list"
      ]
    },
    {
      "cell_type": "code",
      "metadata": {
        "id": "3wgqqHryJa1U"
      },
      "source": [
        "string = \"A driverless truck is ready to start earning a living\""
      ],
      "execution_count": null,
      "outputs": []
    },
    {
      "cell_type": "markdown",
      "metadata": {
        "id": "gjDIE3OGISsK"
      },
      "source": [
        "For the python list below, run a loop where the number will be printed out when it is greater than 15. The output should look like:\n",
        "```\n",
        "17\n",
        "18\n",
        "17\n",
        "18\n",
        "18\n",
        "18\n",
        "16\n",
        "17\n",
        "16\n",
        "```"
      ]
    },
    {
      "cell_type": "code",
      "metadata": {
        "id": "WsYIjcA9InK-"
      },
      "source": [
        "list_x = [ 0,  4, 17, 15, 10, 13,  7, 15, 13, 18,  3,  8, 17,  3,  4, 18, 15,\n",
        "        0, 13, 10, 18, 18,  9, 11,  7, 16,  8,  8, 17, 10,  1,  1, 13,  7,\n",
        "       15, 11,  2,  0, 16, 15,  0,  4,  2,  0,  4, 15, 14,  7, 14,  1]"
      ],
      "execution_count": null,
      "outputs": []
    },
    {
      "cell_type": "markdown",
      "source": [
        "Define a funtion `inList` with following specs.\n",
        "\n",
        "- Takes two argments:\n",
        "  - `x`: a scaler\n",
        "  - `l`: a list\n",
        "- The function will check whether `x` exists in the list, and print out the results\n",
        "  - if exists: `value is in the list`\n",
        "  - if not: `value is not in the list`\n",
        "\n",
        "For example:\n",
        "\n",
        "```\n",
        "inList(x = 3, l = [10,4,5,3])\n",
        "```\n",
        "\n",
        "Will produce\n",
        "\n",
        "```\n",
        "3 is in the list\n",
        "```"
      ],
      "metadata": {
        "id": "RhPY5R2H1Mgc"
      }
    },
    {
      "cell_type": "code",
      "source": [],
      "metadata": {
        "id": "LduUMnLW1MHe"
      },
      "execution_count": null,
      "outputs": []
    },
    {
      "cell_type": "markdown",
      "source": [
        "# Numpy (25 points)"
      ],
      "metadata": {
        "id": "taHTbbne0YNn"
      }
    },
    {
      "cell_type": "markdown",
      "metadata": {
        "id": "owVO2EN0S_9P"
      },
      "source": [
        "## Array construction\n",
        "\n",
        "Construct following NumPy arrays (without using `array()` method)\n",
        "\n",
        "- one dimensional arrays:\n",
        "    1. a sequece of integers from `-5` to `7`\n",
        "    2. 10 random numbers drawn from uniform distribution \n",
        "    3. a decreasing sequence of integers from `23` to `0`\n",
        "- two dimensional arrays:\n",
        "    1. 7 x 5 random array drawn from normal distribution\n",
        "    2. 2 x 7 array of zeros\n",
        "    3. 3 x 4 array of 7s, like this\n",
        "      ```\n",
        "      array([[7., 7., 7., 7.],\n",
        "             [7., 7., 7., 7.],\n",
        "             [7., 7., 7., 7.]])\n",
        "      ```\n"
      ]
    },
    {
      "cell_type": "code",
      "metadata": {
        "id": "Ds85CE7mS_bg"
      },
      "source": [],
      "execution_count": null,
      "outputs": []
    },
    {
      "cell_type": "markdown",
      "metadata": {
        "id": "lYpoMlKvWY66"
      },
      "source": [
        "## Array indexing and selection"
      ]
    },
    {
      "cell_type": "markdown",
      "metadata": {
        "id": "PtztogoEWih1"
      },
      "source": [
        "### One dimension\n"
      ]
    },
    {
      "cell_type": "markdown",
      "metadata": {
        "id": "64nrxJyqYvfR"
      },
      "source": [
        "\n",
        "#### From the array below, crate a replicating matrix"
      ]
    },
    {
      "cell_type": "code",
      "metadata": {
        "id": "zwGzQQjVWkPg"
      },
      "source": [
        "arr_1d = np.arange(1, 16)"
      ],
      "execution_count": null,
      "outputs": []
    },
    {
      "cell_type": "markdown",
      "metadata": {
        "id": "NuJKTmbPW-2t"
      },
      "source": [
        "(1) `array([1, 2, 3, 4, 5, 6, 7])`"
      ]
    },
    {
      "cell_type": "code",
      "metadata": {
        "id": "f-L9PKBwXgS1"
      },
      "source": [],
      "execution_count": null,
      "outputs": []
    },
    {
      "cell_type": "markdown",
      "metadata": {
        "id": "UwH0r0YIXVuP"
      },
      "source": [
        "(2) `array([13, 14, 15])`"
      ]
    },
    {
      "cell_type": "code",
      "metadata": {
        "id": "EYqAMZQ5XbWv"
      },
      "source": [],
      "execution_count": null,
      "outputs": []
    },
    {
      "cell_type": "markdown",
      "metadata": {
        "id": "q2UfO2GBXr2u"
      },
      "source": [
        "#### Do the following \n",
        "\n",
        "1. Set the seed to `208320`\n",
        "2. Construct an array with 20 random numbers from normal distribution\n",
        "3. Select positive elements from the array"
      ]
    },
    {
      "cell_type": "code",
      "metadata": {
        "id": "fKJ9sXkZhlKK"
      },
      "source": [],
      "execution_count": null,
      "outputs": []
    },
    {
      "cell_type": "markdown",
      "metadata": {
        "id": "geTubbJihl2Y"
      },
      "source": [
        "### Two dimension"
      ]
    },
    {
      "cell_type": "markdown",
      "metadata": {
        "id": "js7IYXovhsaQ"
      },
      "source": [
        "\n",
        "#### From the array below, crate a replicating matrix"
      ]
    },
    {
      "cell_type": "code",
      "metadata": {
        "id": "usMhlb8MhtlY"
      },
      "source": [
        "arr_2d = np.arange(31, 61).reshape(5, 6)"
      ],
      "execution_count": null,
      "outputs": []
    },
    {
      "cell_type": "markdown",
      "metadata": {
        "id": "F5wcYHXriHTF"
      },
      "source": [
        "(1) \n",
        "```\n",
        "array([[31, 32, 33, 34, 35, 36],\n",
        "       [37, 38, 39, 40, 41, 42],\n",
        "       [43, 44, 45, 46, 47, 48]])\n",
        "```"
      ]
    },
    {
      "cell_type": "code",
      "metadata": {
        "id": "mUQ1ZqoknwaP"
      },
      "source": [],
      "execution_count": null,
      "outputs": []
    },
    {
      "cell_type": "markdown",
      "metadata": {
        "id": "SRYQCj71iOnz"
      },
      "source": [
        "(2) \n",
        "```\n",
        "array([[39, 40, 41],\n",
        "       [45, 46, 47],\n",
        "       [51, 52, 53]])\n",
        "```"
      ]
    },
    {
      "cell_type": "code",
      "metadata": {
        "id": "WpB90zkZh-T8"
      },
      "source": [],
      "execution_count": null,
      "outputs": []
    },
    {
      "cell_type": "markdown",
      "metadata": {
        "id": "XJ5xfKcjigLE"
      },
      "source": [
        "(3)\n",
        "```\n",
        "array([[43, 47],\n",
        "      [55, 59]])\n",
        "```"
      ]
    },
    {
      "cell_type": "code",
      "metadata": {
        "id": "-usZD8AmnxPI"
      },
      "source": [],
      "execution_count": null,
      "outputs": []
    },
    {
      "cell_type": "markdown",
      "metadata": {
        "id": "gFT0TgnOi1r-"
      },
      "source": [
        "## Array operations\n",
        "\n",
        "For the two dimensional array below, carry out the following operations"
      ]
    },
    {
      "cell_type": "code",
      "metadata": {
        "id": "Bb2sr1S6jDtG"
      },
      "source": [
        "arr_op = np.array([[63, 14, 95, 12, 37, 97, 51],\n",
        "                  [29,  4, 69, 13, 74, 74, 32],\n",
        "                  [14, 63, 83, 52, 16, 86, 78],\n",
        "                  [75, 87,  2,  8, 83,  8, 32],\n",
        "                  [99,  1, 66, 12, 36, 18, 76],\n",
        "                  [45, 81, 23, 54, 38, 26, 30],\n",
        "                  [67, 58, 79, 31, 52, 19, 76],\n",
        "                  [82, 28, 34, 66, 67, 45, 32]])"
      ],
      "execution_count": null,
      "outputs": []
    },
    {
      "cell_type": "markdown",
      "metadata": {
        "id": "NxxhIZbcj3_a"
      },
      "source": [
        "(1) calculate the sum of the entire array"
      ]
    },
    {
      "cell_type": "code",
      "metadata": {
        "id": "40eUPwabkC8r"
      },
      "source": [],
      "execution_count": null,
      "outputs": []
    },
    {
      "cell_type": "markdown",
      "metadata": {
        "id": "mNmER7DAkAkZ"
      },
      "source": [
        "(2) calculate the mean of each row"
      ]
    },
    {
      "cell_type": "code",
      "metadata": {
        "id": "fz58tVIUjeAZ"
      },
      "source": [],
      "execution_count": null,
      "outputs": []
    },
    {
      "cell_type": "markdown",
      "metadata": {
        "id": "b-tag0RikJan"
      },
      "source": [
        "(3) calculate the standard deviaiton of each column"
      ]
    },
    {
      "cell_type": "code",
      "metadata": {
        "id": "X6dPnbKckRNk"
      },
      "source": [],
      "execution_count": null,
      "outputs": []
    }
  ]
}